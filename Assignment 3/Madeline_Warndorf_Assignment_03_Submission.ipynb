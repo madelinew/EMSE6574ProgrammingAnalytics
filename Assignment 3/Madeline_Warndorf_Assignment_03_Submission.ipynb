{
 "cells": [
  {
   "cell_type": "markdown",
   "metadata": {},
   "source": [
    "# Assignment 03 - Pandas\n",
    "*EMSE 6574 - Programming Analytics*\n",
    "Madeline Warndorf"
   ]
  },
  {
   "cell_type": "markdown",
   "metadata": {},
   "source": [
    "*Notes:*\n",
    " - All code should follow the PEP 8 Style Guide for Python\n",
    " - Assignment should be submitted using jupyter notebooks\n",
    "  - File name should follow “{Your Name} – Assignment_XX_Submission”\n",
    "  - Each Task should be contained in its own cell\n",
    "  - Each Task should be properly commented\n",
    "  - Each Task should print out the answer to the Task if appropriate (Ex. Task 2)\n",
    "  - Sample submission can be found on blackboard under the “outline” section\n",
    "  - **Not following these standards may result in lost points**\n",
    " - For this assignment you will need to download **‘boston_housing_data.csv’** file from blackboard\n",
    " \n",
    "*Note: Description of columns can be found on [kaggle](https://www.kaggle.com/c/boston-housing)*\n"
   ]
  },
  {
   "cell_type": "markdown",
   "metadata": {},
   "source": [
    "## Task 1\n",
    "\n",
    "Load the boston_housing_data.csv into a dataframe."
   ]
  },
  {
   "cell_type": "code",
   "execution_count": 2,
   "metadata": {},
   "outputs": [
    {
     "data": {
      "text/html": [
       "<div>\n",
       "<style scoped>\n",
       "    .dataframe tbody tr th:only-of-type {\n",
       "        vertical-align: middle;\n",
       "    }\n",
       "\n",
       "    .dataframe tbody tr th {\n",
       "        vertical-align: top;\n",
       "    }\n",
       "\n",
       "    .dataframe thead th {\n",
       "        text-align: right;\n",
       "    }\n",
       "</style>\n",
       "<table border=\"1\" class=\"dataframe\">\n",
       "  <thead>\n",
       "    <tr style=\"text-align: right;\">\n",
       "      <th></th>\n",
       "      <th>Crime/Capita</th>\n",
       "      <th>% Large Plots</th>\n",
       "      <th>% Non-Retail Business</th>\n",
       "      <th>Riverfront</th>\n",
       "      <th>NOX Conc.</th>\n",
       "      <th>Avg # Rooms</th>\n",
       "      <th>% Built Prior 1940</th>\n",
       "      <th>Dist. Emp. Centers</th>\n",
       "      <th>Access to Radial Highways</th>\n",
       "      <th>Property Tax</th>\n",
       "      <th>Pupil-Teacher-RATIO</th>\n",
       "      <th>B</th>\n",
       "      <th>LSTAT</th>\n",
       "      <th>Median Value</th>\n",
       "    </tr>\n",
       "  </thead>\n",
       "  <tbody>\n",
       "    <tr>\n",
       "      <th>0</th>\n",
       "      <td>0.00632</td>\n",
       "      <td>18.0</td>\n",
       "      <td>2.31</td>\n",
       "      <td>0.0</td>\n",
       "      <td>0.538</td>\n",
       "      <td>6.575</td>\n",
       "      <td>65.2</td>\n",
       "      <td>4.0900</td>\n",
       "      <td>1.0</td>\n",
       "      <td>296.0</td>\n",
       "      <td>15.3</td>\n",
       "      <td>396.90</td>\n",
       "      <td>4.98</td>\n",
       "      <td>24.0</td>\n",
       "    </tr>\n",
       "    <tr>\n",
       "      <th>1</th>\n",
       "      <td>0.02731</td>\n",
       "      <td>0.0</td>\n",
       "      <td>7.07</td>\n",
       "      <td>0.0</td>\n",
       "      <td>NaN</td>\n",
       "      <td>6.421</td>\n",
       "      <td>78.9</td>\n",
       "      <td>4.9671</td>\n",
       "      <td>2.0</td>\n",
       "      <td>242.0</td>\n",
       "      <td>17.8</td>\n",
       "      <td>396.90</td>\n",
       "      <td>9.14</td>\n",
       "      <td>21.6</td>\n",
       "    </tr>\n",
       "    <tr>\n",
       "      <th>2</th>\n",
       "      <td>0.02729</td>\n",
       "      <td>0.0</td>\n",
       "      <td>7.07</td>\n",
       "      <td>0.0</td>\n",
       "      <td>0.469</td>\n",
       "      <td>7.185</td>\n",
       "      <td>61.1</td>\n",
       "      <td>NaN</td>\n",
       "      <td>2.0</td>\n",
       "      <td>242.0</td>\n",
       "      <td>17.8</td>\n",
       "      <td>NaN</td>\n",
       "      <td>4.03</td>\n",
       "      <td>34.7</td>\n",
       "    </tr>\n",
       "    <tr>\n",
       "      <th>3</th>\n",
       "      <td>0.03237</td>\n",
       "      <td>0.0</td>\n",
       "      <td>2.18</td>\n",
       "      <td>0.0</td>\n",
       "      <td>0.458</td>\n",
       "      <td>6.998</td>\n",
       "      <td>45.8</td>\n",
       "      <td>6.0622</td>\n",
       "      <td>3.0</td>\n",
       "      <td>222.0</td>\n",
       "      <td>18.7</td>\n",
       "      <td>394.63</td>\n",
       "      <td>2.94</td>\n",
       "      <td>33.4</td>\n",
       "    </tr>\n",
       "    <tr>\n",
       "      <th>4</th>\n",
       "      <td>NaN</td>\n",
       "      <td>0.0</td>\n",
       "      <td>2.18</td>\n",
       "      <td>NaN</td>\n",
       "      <td>0.458</td>\n",
       "      <td>7.147</td>\n",
       "      <td>NaN</td>\n",
       "      <td>6.0622</td>\n",
       "      <td>NaN</td>\n",
       "      <td>222.0</td>\n",
       "      <td>18.7</td>\n",
       "      <td>396.90</td>\n",
       "      <td>NaN</td>\n",
       "      <td>NaN</td>\n",
       "    </tr>\n",
       "  </tbody>\n",
       "</table>\n",
       "</div>"
      ],
      "text/plain": [
       "   Crime/Capita  % Large Plots  % Non-Retail Business  Riverfront  NOX Conc.  \\\n",
       "0       0.00632           18.0                   2.31         0.0      0.538   \n",
       "1       0.02731            0.0                   7.07         0.0        NaN   \n",
       "2       0.02729            0.0                   7.07         0.0      0.469   \n",
       "3       0.03237            0.0                   2.18         0.0      0.458   \n",
       "4           NaN            0.0                   2.18         NaN      0.458   \n",
       "\n",
       "   Avg # Rooms  % Built Prior 1940  Dist. Emp. Centers  \\\n",
       "0        6.575                65.2              4.0900   \n",
       "1        6.421                78.9              4.9671   \n",
       "2        7.185                61.1                 NaN   \n",
       "3        6.998                45.8              6.0622   \n",
       "4        7.147                 NaN              6.0622   \n",
       "\n",
       "   Access to Radial Highways  Property Tax  Pupil-Teacher-RATIO       B  \\\n",
       "0                        1.0         296.0                 15.3  396.90   \n",
       "1                        2.0         242.0                 17.8  396.90   \n",
       "2                        2.0         242.0                 17.8     NaN   \n",
       "3                        3.0         222.0                 18.7  394.63   \n",
       "4                        NaN         222.0                 18.7  396.90   \n",
       "\n",
       "   LSTAT  Median Value  \n",
       "0   4.98          24.0  \n",
       "1   9.14          21.6  \n",
       "2   4.03          34.7  \n",
       "3   2.94          33.4  \n",
       "4    NaN           NaN  "
      ]
     },
     "execution_count": 2,
     "metadata": {},
     "output_type": "execute_result"
    }
   ],
   "source": [
    "# Space for Task 1 Code\n",
    "import pandas as pd\n",
    "\n",
    "df=pd.read_csv(\"boston_housing_data.csv\")\n",
    "\n",
    "df.head()"
   ]
  },
  {
   "cell_type": "markdown",
   "metadata": {},
   "source": [
    "## Task 2\n",
    "\n",
    "Focusing on the **‘Median Value’** column, calculate the basic statistics (mean, median, std) for each NaN handling methodology (bfill, ffill, removal). Write a couple sentences analyzing how the methods compare, and discuss the risks involved with each approach.\n",
    "\n",
    "*Include both code and comments below.*"
   ]
  },
  {
   "cell_type": "code",
   "execution_count": 20,
   "metadata": {},
   "outputs": [
    {
     "name": "stdout",
     "output_type": "stream",
     "text": [
      "ffill\n",
      "22.433794466403185\n",
      "21.05\n",
      "9.220426324911319\n",
      "bfill\n",
      "22.445256916996073\n",
      "21.2\n",
      "9.114120653162194\n",
      "removal\n",
      "22.238255033557067\n",
      "21.0\n",
      "9.102253680291085\n"
     ]
    }
   ],
   "source": [
    "# Space for Task 2 Code\n",
    "df.columns\n",
    "mvcol = df['Median Value']\n",
    "#print(mvcol)\n",
    "mvffill = mvcol.fillna(method='ffill')\n",
    "print(\"ffill\")\n",
    "print(mvffill.mean())\n",
    "print(mvffill.median())\n",
    "print(mvffill.std())\n",
    "mvbfill = mvcol.fillna(method='bfill')\n",
    "print(\"bfill\")\n",
    "print(mvbfill.mean())\n",
    "print(mvbfill.median())\n",
    "print(mvbfill.std())\n",
    "mvrem = mvcol.dropna()\n",
    "print(\"removal\")\n",
    "print(mvrem.mean())\n",
    "print(mvrem.median())\n",
    "print(mvrem.std())"
   ]
  },
  {
   "cell_type": "markdown",
   "metadata": {},
   "source": [
    "**Task 2 Comments**\n",
    "\n",
    "Write a couple sentences analyzing how the methods compare, and discuss the risks involved with each approach.\n",
    "\n",
    "The ffill method gave slightly larger numbers than the bfill method. This could be because with the ffill method there could potentially have more repetitions of values compared to the bfill method. The removal method caused lower numbers because instead of filling the missing data points the record was completely removed."
   ]
  },
  {
   "cell_type": "markdown",
   "metadata": {},
   "source": [
    "## Task 3\n",
    "\n",
    "Address the NaN’s in the **% Built Prior 1940** column. For each approach determine the correlation between **% Built Prior 1940** and **Median Value**. Write a couple sentences explaining how each approach effects how the two columns are correlated."
   ]
  },
  {
   "cell_type": "code",
   "execution_count": 25,
   "metadata": {},
   "outputs": [
    {
     "name": "stdout",
     "output_type": "stream",
     "text": [
      "ffill\n",
      "                    % Built Prior 1940  Median Value\n",
      "% Built Prior 1940            1.000000     -0.364969\n",
      "Median Value                 -0.364969      1.000000\n",
      "bfill\n",
      "                    % Built Prior 1940  Median Value\n",
      "% Built Prior 1940            1.000000     -0.369258\n",
      "Median Value                 -0.369258      1.000000\n",
      "removal\n",
      "                    % Built Prior 1940  Median Value\n",
      "% Built Prior 1940            1.000000     -0.371502\n",
      "Median Value                 -0.371502      1.000000\n"
     ]
    }
   ],
   "source": [
    "# Space for Task 3 Code\n",
    "bm = df[['% Built Prior 1940','Median Value']]\n",
    "\n",
    "bmffill = bm.fillna(method='ffill')\n",
    "print(\"ffill\")\n",
    "print(bmffill.corr())\n",
    "bmbfill = bm.fillna(method='bfill')\n",
    "print(\"bfill\")\n",
    "print(bmbfill.corr())\n",
    "bmrem = bm.dropna()\n",
    "print(\"removal\")\n",
    "print(bmrem.corr())"
   ]
  },
  {
   "cell_type": "markdown",
   "metadata": {},
   "source": [
    "**Task 3 Comments**\n",
    "\n",
    "Removing the NAs entirely with dropna() caused a larger correlation between the two. Bfill had a slightly smaller correlation but it still increased from Ffill. "
   ]
  },
  {
   "cell_type": "markdown",
   "metadata": {},
   "source": [
    "## Task 4\n",
    "\n",
    "Plot a (properly labeled) histogram of the **Avg # of rooms**."
   ]
  },
  {
   "cell_type": "code",
   "execution_count": 55,
   "metadata": {},
   "outputs": [
    {
     "data": {
      "text/plain": [
       "Text(0,0.5,'Frequency')"
      ]
     },
     "execution_count": 55,
     "metadata": {},
     "output_type": "execute_result"
    },
    {
     "data": {
      "image/png": "[encoded data removed]",
      "text/plain": [
       "<Figure size 432x288 with 1 Axes>"
      ]
     },
     "metadata": {},
     "output_type": "display_data"
    }
   ],
   "source": [
    "# Space for Task 4\n",
    "import matplotlib.pyplot as plt\n",
    "\n",
    "ar = df['Avg # Rooms']\n",
    "#plt.hist(ar, bins = 5)\n",
    "h = ar.hist(bins = 5)\n",
    "h.set_title(\"Avg # Rooms Histogram\")\n",
    "h.set_xlabel(\"Avg # of Rooms\")\n",
    "h.set_ylabel(\"Frequency\")"
   ]
  },
  {
   "cell_type": "markdown",
   "metadata": {},
   "source": [
    "## Task 5\n",
    "Plot a (properly labelled) scatter plot between **% Built Prior 1940** and **% Large Plots**"
   ]
  },
  {
   "cell_type": "code",
   "execution_count": 61,
   "metadata": {},
   "outputs": [
    {
     "data": {
      "text/plain": [
       "Text(0,0.5,'% Large Plots')"
      ]
     },
     "execution_count": 61,
     "metadata": {},
     "output_type": "execute_result"
    },
    {
     "data": {
      "image/png": "[encoded data removed]",
      "text/plain": [
       "<Figure size 432x288 with 1 Axes>"
      ]
     },
     "metadata": {},
     "output_type": "display_data"
    }
   ],
   "source": [
    "# Space for Task 5\n",
    "\n",
    "plt.scatter(df['% Built Prior 1940'], df['% Large Plots'])\n",
    "plt.title(\"% Built Prior 1940 vs. % Large Plots\")\n",
    "plt.xlabel(\"% Built Prior 1940\")\n",
    "plt.ylabel(\"% Large Plots\")"
   ]
  },
  {
   "cell_type": "markdown",
   "metadata": {},
   "source": [
    "## Task 6\n",
    "\n",
    "Generate a new features for the dataset equal to the following equation:\n",
    "\n",
    "$$\\text{Riverfront Rooms} = \n",
    "\\begin{cases}\n",
    "\\lceil \\text{Avg # Rooms} \\rceil/2,  & \\text{if $Riverfront$ is 1} \\\\\n",
    "0, & \\text{if $Riverfront$ is 0}\n",
    "\\end{cases}\n",
    "$$\n",
    "\n",
    "*Note: $\\lceil \\text{#} \\rceil$ means to take the ceiling of the # (e.g. $\\lceil 3.2 \\rceil = 4$)*"
   ]
  },
  {
   "cell_type": "code",
   "execution_count": 144,
   "metadata": {},
   "outputs": [],
   "source": [
    "# Space for Task 6\n",
    "import numpy as np\n",
    "from math import ceil\n",
    "\n",
    "nf = df[['Riverfront','Avg # Rooms']]\n",
    "\n",
    "def func(df):\n",
    "    \"\"\"takes dataframe and creates list of Riverfront Rooms following\n",
    "    the guidelines given. If Riverfront is 1, ceil(Avg # Rooms)/2, if 0 then 0\n",
    "    Args:\n",
    "        nf (dataframe) - dataframe containing Riverfront and Avg # Rooms\n",
    "        lst (list) - a list of ints/floats/str\n",
    "    Returns:\n",
    "        lst (list) - filled list of Riverfront Rooms\n",
    "    \"\"\"\n",
    "    nf = df[['Riverfront','Avg # Rooms']]\n",
    "    lst = []\n",
    "    for row,rowv in nf.iterrows():\n",
    "        n = rowv['Avg # Rooms']\n",
    "        if rowv['Riverfront'] == 1:\n",
    "            l = ceil(n)/2\n",
    "            #print(l)\n",
    "        elif rowv['Riverfront'] == 0:\n",
    "            l = 0\n",
    "        else:\n",
    "            l = np.nan\n",
    "        lst.append(l)\n",
    "    return(lst)\n",
    "\n",
    "df[\"Riverfront Rooms\"] = func(df)\n",
    "#print(df['Riverfront Rooms'])"
   ]
  },
  {
   "cell_type": "markdown",
   "metadata": {},
   "source": [
    "## Task 7\n",
    "\n",
    "Group the dataframe by the **Avg # of Rooms** column and calculate the **mean** and **median Median Value** for each group. How does the number of rooms per house affect the mean median value of the houses?\n",
    "\n",
    "In a couple of sentences write what the relationship between **Avg # of Rooms** and **Median Value** means."
   ]
  },
  {
   "cell_type": "code",
   "execution_count": 149,
   "metadata": {},
   "outputs": [
    {
     "name": "stdout",
     "output_type": "stream",
     "text": [
      "Avg # Rooms\n",
      "3.863    23.10\n",
      "4.138    12.85\n",
      "4.368     8.80\n",
      "4.519     7.00\n",
      "4.628    17.90\n",
      "4.652    10.50\n",
      "4.880    10.20\n",
      "4.903    11.80\n",
      "4.906    13.80\n",
      "4.926    14.60\n",
      "4.963    21.90\n",
      "4.970    50.00\n",
      "4.973    16.10\n",
      "5.000     7.40\n",
      "5.012    15.30\n",
      "5.019    14.40\n",
      "5.036     9.70\n",
      "5.093     8.10\n",
      "5.155    16.30\n",
      "5.186    17.80\n",
      "5.272    13.10\n",
      "5.277     7.20\n",
      "5.304    11.20\n",
      "5.344    20.00\n",
      "5.349     8.30\n",
      "5.362    20.80\n",
      "5.390    15.60\n",
      "5.399    14.40\n",
      "5.403    13.40\n",
      "5.404    19.45\n",
      "         ...  \n",
      "7.412    31.70\n",
      "7.416    33.20\n",
      "7.420      NaN\n",
      "7.454    44.00\n",
      "7.470      NaN\n",
      "7.489    50.00\n",
      "7.520    43.10\n",
      "7.645      NaN\n",
      "7.691    35.20\n",
      "7.765    39.80\n",
      "7.802      NaN\n",
      "7.820    45.40\n",
      "7.831    50.00\n",
      "7.853    48.50\n",
      "7.875    50.00\n",
      "7.923    50.00\n",
      "7.929    50.00\n",
      "8.034    50.00\n",
      "8.040    37.60\n",
      "8.069    38.70\n",
      "8.247      NaN\n",
      "8.259    42.80\n",
      "8.266    44.80\n",
      "8.297    50.00\n",
      "8.337    41.70\n",
      "8.375    50.00\n",
      "8.398    48.80\n",
      "8.704      NaN\n",
      "8.725    50.00\n",
      "8.780    21.90\n",
      "Name: Median Value, Length: 433, dtype: float64\n",
      "Avg # Rooms\n",
      "3.863    23.10\n",
      "4.138    12.85\n",
      "4.368     8.80\n",
      "4.519     7.00\n",
      "4.628    17.90\n",
      "4.652    10.50\n",
      "4.880    10.20\n",
      "4.903    11.80\n",
      "4.906    13.80\n",
      "4.926    14.60\n",
      "4.963    21.90\n",
      "4.970    50.00\n",
      "4.973    16.10\n",
      "5.000     7.40\n",
      "5.012    15.30\n",
      "5.019    14.40\n",
      "5.036     9.70\n",
      "5.093     8.10\n",
      "5.155    16.30\n",
      "5.186    17.80\n",
      "5.272    13.10\n",
      "5.277     7.20\n",
      "5.304    11.20\n",
      "5.344    20.00\n",
      "5.349     8.30\n",
      "5.362    20.80\n",
      "5.390    15.60\n",
      "5.399    14.40\n",
      "5.403    13.40\n",
      "5.404    19.45\n",
      "         ...  \n",
      "7.412    31.70\n",
      "7.416    33.20\n",
      "7.420      NaN\n",
      "7.454    44.00\n",
      "7.470      NaN\n",
      "7.489    50.00\n",
      "7.520    43.10\n",
      "7.645      NaN\n",
      "7.691    35.20\n",
      "7.765    39.80\n",
      "7.802      NaN\n",
      "7.820    45.40\n",
      "7.831    50.00\n",
      "7.853    48.50\n",
      "7.875    50.00\n",
      "7.923    50.00\n",
      "7.929    50.00\n",
      "8.034    50.00\n",
      "8.040    37.60\n",
      "8.069    38.70\n",
      "8.247      NaN\n",
      "8.259    42.80\n",
      "8.266    44.80\n",
      "8.297    50.00\n",
      "8.337    41.70\n",
      "8.375    50.00\n",
      "8.398    48.80\n",
      "8.704      NaN\n",
      "8.725    50.00\n",
      "8.780    21.90\n",
      "Name: Median Value, Length: 433, dtype: float64\n"
     ]
    }
   ],
   "source": [
    "# Space for Task 7 code\n",
    "grouped = df['Median Value'].groupby(df['Avg # Rooms'])\n",
    "#print(grouped)\n",
    "print(grouped.mean())\n",
    "print(grouped.median())"
   ]
  },
  {
   "cell_type": "markdown",
   "metadata": {},
   "source": [
    "The group relationship between Avg # Rooms and the Median Value is that as the Avg # of rooms increases in each room group (1 - 8) so does the Median Value. It has a positive relationship."
   ]
  }
 ],
 "metadata": {
  "kernelspec": {
   "display_name": "Python 3",
   "language": "python",
   "name": "python3"
  },
  "language_info": {
   "codemirror_mode": {
    "name": "ipython",
    "version": 3
   },
   "file_extension": ".py",
   "mimetype": "text/x-python",
   "name": "python",
   "nbconvert_exporter": "python",
   "pygments_lexer": "ipython3",
   "version": "3.6.5"
  }
 },
 "nbformat": 4,
 "nbformat_minor": 2
}

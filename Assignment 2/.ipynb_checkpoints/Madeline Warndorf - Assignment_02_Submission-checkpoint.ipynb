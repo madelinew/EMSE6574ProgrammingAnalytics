{
 "cells": [
  {
   "cell_type": "markdown",
   "metadata": {},
   "source": [
    "# Assignment 02 - NumPy\n",
    "*EMSE 6574 - Programming Analytics*\n",
    "\n",
    "Due **10/21/2018**\n",
    "\n",
    "Madeline Warndorf"
   ]
  },
  {
   "cell_type": "markdown",
   "metadata": {},
   "source": [
    "*Notes:*\n",
    " - All code should follow the PEP 8 Style Guide for Python\n",
    " - Assignment should be submitted using jupyter notebooks\n",
    "  - File name should follow “{Your Name} – Assignment_XX_Submission”\n",
    "  - Each Task should be contained in its own cell\n",
    "  - Each Task should be properly commented\n",
    "  - Each Task should print out the answer to the Task if appropriate (Ex. Task 2)\n",
    "  - Sample submission can be found on blackboard under the “outline” section\n",
    "  - **Not following these standards may result in lost points**\n",
    " - For this assignment you will need to download **‘dataset.csv’** file from blackboard\n"
   ]
  },
  {
   "cell_type": "markdown",
   "metadata": {},
   "source": [
    "## Task 1\n",
    "Given the two following NumPy arrays, reshape arr2 and calculate the dot product between arr1 and arr2.\n",
    "\n",
    "$$arr1 \\cdot arr2$$\n",
    "\n",
    "*Hint: Remember you can use -1 in a shape parameter to indicate a degree of freedom*"
   ]
  },
  {
   "cell_type": "code",
   "execution_count": 55,
   "metadata": {},
   "outputs": [
    {
     "name": "stdout",
     "output_type": "stream",
     "text": [
      "[[  5  -4]\n",
      " [  9  78]\n",
      " [-35 -20]]\n"
     ]
    }
   ],
   "source": [
    "# Space for Task 1\n",
    "import numpy as np\n",
    "\n",
    "arr1 = np.array([[-9,  1,  3],\n",
    "       [ 8,  9, -5],\n",
    "       [-3, -3,  5]])\n",
    "\n",
    "arr2 = np.array([ -4,   2,  -1,   8, -10,   2])\n",
    "\n",
    "#reshaping arr2\n",
    "arr2.shape = (3,-1)\n",
    "\n",
    "#arr3 is the resulting array of the dot product between arr1 and arr2\n",
    "arr3 = arr1.dot(arr2)\n",
    "\n",
    "print(arr3)"
   ]
  },
  {
   "cell_type": "markdown",
   "metadata": {},
   "source": [
    "# Task 2\n",
    "Given the following arrays reshape arr2 so that it can be broadcast against arr2.\n",
    "\n",
    "$$arr1 + arr2$$"
   ]
  },
  {
   "cell_type": "code",
   "execution_count": 63,
   "metadata": {},
   "outputs": [
    {
     "name": "stdout",
     "output_type": "stream",
     "text": [
      "(10, 1, 10)\n",
      "[[[19 12  3 17 17  2  4 19 16 14]\n",
      "  [10 10 14 17  9 13 11 15 17  3]\n",
      "  [16 16  9  9 17 14 20  0  3 11]\n",
      "  [ 9  9 10 20 11  2  2  0 15 19]\n",
      "  [ 7  2  9  8  3 15  8  1  1 20]\n",
      "  [ 4 14 16 14  9  8 11 14  0 16]\n",
      "  [16  8 16 17 13 15  4 15 18 17]\n",
      "  [15 19  6  8 18  1  1 16 19 19]\n",
      "  [11  8 19 18  7  0  1  0  2 17]\n",
      "  [19  6  7  6 13 11 17 16 10 16]]\n",
      "\n",
      " [[ 6  6 11  2 11 16 21 20  4  9]\n",
      "  [ 4 16 12  5  6  5 18 19 17 21]\n",
      "  [ 8 16 15  6  5 15 16  8 16  6]\n",
      "  [13 12  9 19 10 12 20 12 15  9]\n",
      "  [18  4 19 10  5 13  5 10 19 20]\n",
      "  [ 3 16  8 12 18 12 15  8  4 16]\n",
      "  [12 19  5  4  4  8  8 20  8 10]\n",
      "  [12 13  7  9 16  5 15  5  8 17]\n",
      "  [ 7  1  5 13 15 16  7 17  5 14]\n",
      "  [12 13 15 19  3 10 16 12 10 19]]\n",
      "\n",
      " [[18  9 19 18 11 15  7  7 18  5]\n",
      "  [11 16  4 11 14 18 21  3 15 16]\n",
      "  [21 11  6  3 11 18  5  5  3 22]\n",
      "  [ 7 12 20 19 21 14 14  8 19 23]\n",
      "  [22 10  8 17 13 14 21 10 19 22]\n",
      "  [11 15  7  5 21 11 22 14  7 12]\n",
      "  [ 6 22 20 10 12 10  8 20 21 16]\n",
      "  [ 5 14  5  8  2  7  5 21  8 10]\n",
      "  [ 4  8 12  8 11 13  6 17 20 15]\n",
      "  [ 4  8 20  4 21 16 14 20  2 19]]\n",
      "\n",
      " [[ 4  8 17  9  8 10  1  4  9  6]\n",
      "  [17 11 15 19 11  9  6 16  6 20]\n",
      "  [ 6 16  3 13 16 17 16 19 19 19]\n",
      "  [11 13  7  7 17 10 12  1  9  9]\n",
      "  [22 13 18 20  4  8 12  3  6  6]\n",
      "  [ 7 17  6 18  3 13  3 15 10  6]\n",
      "  [ 8 21 15 12 15  2 15 11  2 19]\n",
      "  [ 8 11  9 19 15 18  4  5  5 11]\n",
      "  [ 3  3  5 16 14 12  5 18 12  9]\n",
      "  [14 21 20  2  9  6 10 18 17 19]]\n",
      "\n",
      " [[10 13 22 17  8 12 14 12  8 10]\n",
      "  [12  6 15 10 23  4 22 17 12 14]\n",
      "  [12  9 15  4 15  5 13 17 10  1]\n",
      "  [ 9 14 15 14 19  9 11 22 21 17]\n",
      "  [18  4 16 21  5 19 10  8  8 14]\n",
      "  [19  2  8 11  9 14  8 16 18 11]\n",
      "  [ 8 17 13 20 22  2 12 12 17  4]\n",
      "  [ 8 17  3 15  4  6 14  9 22 13]\n",
      "  [21 11 11  7 16  7 17 21 10 16]\n",
      "  [14  2  5  8 16  9  8 18 16  3]]\n",
      "\n",
      " [[12  3 19 16 16 18 10  9  1  7]\n",
      "  [ 3  6 20  9 11  5  7  6  9 11]\n",
      "  [ 4 18 18  9 15 17  9 21 15 18]\n",
      "  [20 18 11 15 19 18 12  5  1 12]\n",
      "  [10 13 16  8 18 13  6 14 11 20]\n",
      "  [15 16 11 19  4 22  7  4  6 17]\n",
      "  [15 15 20 21 13  5 22  3 10 16]\n",
      "  [17 15 18 15  3 21 15 13 13  4]\n",
      "  [ 5 10 12 11 13 10  6  7 14 10]\n",
      "  [ 3  8  9 18 17 14 17 16 12 18]]\n",
      "\n",
      " [[21 19 12  0 18  4 17 13  8  1]\n",
      "  [16  7 10  7  3 15 18 16 16  1]\n",
      "  [22 21 20 13  9 18  8 11 16  7]\n",
      "  [10  6  3 10 15 14 18 23 16 15]\n",
      "  [ 6 14  2 17 13 18 14 20  5  1]\n",
      "  [ 7 13 16  5 11  9  4 16 17 14]\n",
      "  [18 17 18 10 12  5 13 16 17  4]\n",
      "  [ 8  7  2  5 20  6  5 12 12  6]\n",
      "  [13  4  8 17 13 20 18  7 16 14]\n",
      "  [12 17  5 12  6  3 20 11 15 17]]\n",
      "\n",
      " [[12  4 18 15 16 18 16  5 17  0]\n",
      "  [10 12 15 23  6 17 10  5 20 12]\n",
      "  [11 17  5 13 19 13 18 16 17  2]\n",
      "  [ 0 17  7 11 12 20  8  3  7 14]\n",
      "  [11  5 17  7 18 10 19  4 13 14]\n",
      "  [ 9 10  5  7  6  4  4  2 16  0]\n",
      "  [19  9 19 13 18 21 11  4 18 12]\n",
      "  [ 9  3  4 10 14 16 11 17  7 12]\n",
      "  [11  5 16 15 20 21 13 10 13  9]\n",
      "  [ 6  5  4 10 11 18 20  6  4 18]]\n",
      "\n",
      " [[ 2 12  4 20  6  7  9 16  7 10]\n",
      "  [14  4 20  6 11  9 17 21 16  8]\n",
      "  [14  1 21  4  3 19 15 10  7 12]\n",
      "  [14 17 15 18 17  3  8 11  3  4]\n",
      "  [17 15 23 15 17 12 17 21 15  6]\n",
      "  [15  4 14 12  5  2 16  9  6 15]\n",
      "  [ 8  7  7 11  2 11  7 17  3 16]\n",
      "  [ 5 18 19 20 16  9  3 10 11  7]\n",
      "  [ 4 16 17 21 16 15 14  4 15 18]\n",
      "  [15  7 15  5  7  7 19  3  1  8]]\n",
      "\n",
      " [[ 2 10  7  6 12 21  1 12  1 17]\n",
      "  [ 6  7 12  8 16 20 11 20 12  1]\n",
      "  [ 3 17 10 10 18 22 16 11  6  5]\n",
      "  [17 20  6  7 16 14 14 15  6 12]\n",
      "  [ 3 19  9  6  4  4  9 17  6 19]\n",
      "  [15  5 16  6  7  3 16 17 18  6]\n",
      "  [11 12 20  9 10 16  0 13 18 12]\n",
      "  [15 12  9  8  2 15 14  8  6 20]\n",
      "  [20 15 18 11 12 16  5  3 10 16]\n",
      "  [17  5  2 15 11  6 17  8  8 12]]]\n"
     ]
    }
   ],
   "source": [
    "#Space for Task 2\n",
    "arr1 = np.random.randint(0, 20, size=(10, 10, 10))\n",
    "arr2 = np.random.randint(0, 5, size=(100))\n",
    "\n",
    "#reshaping arr2\n",
    "arr2.shape = (10,-1,10)\n",
    "print(arr2.shape)\n",
    "\n",
    "#arr3 is the resulting array of the sum arr1 and arr2\n",
    "arr3 = arr1+arr2\n",
    "print(arr3)"
   ]
  },
  {
   "cell_type": "markdown",
   "metadata": {},
   "source": [
    "# Task 3\n",
    "Time the difference between processing a ufunc/broadcasting compared to writing a for loop to iterate over a numpy array\n",
    "\n",
    "**HINT: You'll want to use `for x in np.nditer(arr1, op_flags=['readwrite']):` to be able to iterate and update the elements in our numpy array**"
   ]
  },
  {
   "cell_type": "code",
   "execution_count": 77,
   "metadata": {},
   "outputs": [],
   "source": [
    "import time\n",
    "\n",
    "class TimeTracker():\n",
    "    def __init__(self):\n",
    "        pass\n",
    "    \n",
    "    def start(self):\n",
    "        self.start_time = time.time()\n",
    "        \n",
    "    def stop(self):\n",
    "        self.stop_time = time.time()\n",
    "        \n",
    "    def run(self, func, params):\n",
    "        self.start()\n",
    "        func(*params)\n",
    "        self.stop()\n",
    "        return self.runtime()\n",
    "        \n",
    "    def runtime(self):\n",
    "        return f\"Runtime: {self.stop_time - self.start_time} seconds\""
   ]
  },
  {
   "cell_type": "code",
   "execution_count": 78,
   "metadata": {},
   "outputs": [
    {
     "name": "stdout",
     "output_type": "stream",
     "text": [
      "Runtime: 3.536378860473633 seconds\n"
     ]
    }
   ],
   "source": [
    "tracker = TimeTracker()\n",
    "\n",
    "tracker.start()\n",
    "for ix in range(100000000):\n",
    "    pass\n",
    "tracker.stop()\n",
    "print(tracker.runtime())"
   ]
  },
  {
   "cell_type": "code",
   "execution_count": 101,
   "metadata": {},
   "outputs": [
    {
     "name": "stdout",
     "output_type": "stream",
     "text": [
      "Runtime: 1.2924220561981201 seconds\n",
      "Runtime: 0.002056121826171875 seconds\n",
      "The Runtime for the \"for loop\" is longer than the Runtime for the vectorized operation.\n"
     ]
    }
   ],
   "source": [
    "import numpy as np\n",
    "arr = np.arange(1000000)\n",
    "\n",
    "tracker = TimeTracker()\n",
    "\n",
    "tracker.start()\n",
    "# Place to put code for iterative loop\n",
    "for x in np.nditer(arr, op_flags=['readwrite']):\n",
    "    x = x^2\n",
    "tracker.stop()\n",
    "print(tracker.runtime())\n",
    "\n",
    "tracker.start()\n",
    "# Place for ufunc or vectorized operation\n",
    "np.square(arr)\n",
    "tracker.stop()\n",
    "print(tracker.runtime())\n",
    "\n",
    "print('The Runtime for the \"for loop\" is longer than the Runtime for the vectorized operation.')"
   ]
  },
  {
   "cell_type": "markdown",
   "metadata": {},
   "source": [
    "## Task 4\n",
    "Create a random array of integers, from -20 to 20, and determine how many of the elements are positive using **np.where()**."
   ]
  },
  {
   "cell_type": "code",
   "execution_count": 102,
   "metadata": {},
   "outputs": [
    {
     "name": "stdout",
     "output_type": "stream",
     "text": [
      "[-20 -19 -18 -17 -16 -15 -14 -13 -12 -11 -10  -9  -8  -7  -6  -5  -4  -3\n",
      "  -2  -1   0   1   2   3   4   5   6   7   8   9  10  11  12  13  14  15\n",
      "  16  17  18  19  20]\n",
      "[0 0 0 0 0 0 0 0 0 0 0 0 0 0 0 0 0 0 0 0 0 1 1 1 1 1 1 1 1 1 1 1 1 1 1 1 1\n",
      " 1 1 1 1]\n",
      "There are 20 elements that are positive\n"
     ]
    }
   ],
   "source": [
    "# Space for Task 4\n",
    "arr1 = np.arange(-20,21)\n",
    "print(arr1)\n",
    "\n",
    "\"\"\"resultarray = the array that is the result of the np.where condition where if the element\n",
    "is greater than 0 (positive) it is changed to the value 1, else 0\"\"\"\n",
    "resultarray = np.where(arr1 > 0,1,0)\n",
    "\n",
    "#count = the sum of the resultarray (showing how many elements are positive)\n",
    "count = sum(resultarray)\n",
    "print(resultarray)\n",
    "\n",
    "\n",
    "print(f'There are {count} elements that are positive')"
   ]
  },
  {
   "cell_type": "code",
   "execution_count": null,
   "metadata": {},
   "outputs": [],
   "source": []
  }
 ],
 "metadata": {
  "kernelspec": {
   "display_name": "Python 3",
   "language": "python",
   "name": "python3"
  },
  "language_info": {
   "codemirror_mode": {
    "name": "ipython",
    "version": 3
   },
   "file_extension": ".py",
   "mimetype": "text/x-python",
   "name": "python",
   "nbconvert_exporter": "python",
   "pygments_lexer": "ipython3",
   "version": "3.6.5"
  }
 },
 "nbformat": 4,
 "nbformat_minor": 2
}

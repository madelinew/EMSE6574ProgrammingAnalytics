{
 "cells": [
  {
   "cell_type": "markdown",
   "metadata": {},
   "source": [
    "# Assignment 01 - Python 101\n",
    "*EMSE 6574 - Programming Analytics*\n",
    "\n",
    "Due **9/23/18 by 11:59pm**"
   ]
  },
  {
   "cell_type": "markdown",
   "metadata": {},
   "source": [
    "*Notes:*\n",
    " - All code should follow the PEP 8 Style Guide for Python\n",
    " - Assignment should be submitted using jupyter notebooks\n",
    "  - File name should follow “{Your Name} – Assignment_XX_Submission”\n",
    "  - Each Task should be contained in its own cell\n",
    "  - Each Task should be properly commented\n",
    "  - Each Task should print out the answer to the Task if appropriate (Ex. Task 2)\n",
    "  - Sample submission can be found on blackboard under the “outline” section\n",
    "  - **Not following these standards may result in lost points**"
   ]
  },
  {
   "cell_type": "markdown",
   "metadata": {},
   "source": [
    "## Task 1\n",
    "Create a function called *lst_count* that takes a list of integers/floats and returns the count of each element in the list.\n",
    "\n",
    "Ex. \\[‘a’, 4, 'a', 8, 4, ‘hello’, 'a'\\] -->  a –31, 4 – 2, 8 – 1, ‘hello’ - 1\n",
    "\n",
    "Hints: [Dictionary](http://anandology.com/python-practice-book/working-with-data.html#dictionaries), [Function Definitions](http://anandology.com/python-practice-book/getting-started.html#functions), [Lists](http://anandology.com/python-practice-book/getting-started.html#lists)"
   ]
  },
  {
   "cell_type": "code",
   "execution_count": 18,
   "metadata": {},
   "outputs": [
    {
     "name": "stdout",
     "output_type": "stream",
     "text": [
      "{'a': 3, 4: 2, 8: 1, 'hello': 1}\n"
     ]
    }
   ],
   "source": [
    "def lst_count(lst):\n",
    "    \"\"\"takes list of ints/floats and returns count of each element\n",
    "    Args:\n",
    "        kv - dictionary to contain element and count   \n",
    "    Returns:\n",
    "        kv - dictionary to contain element and counts\n",
    "    \"\"\"\n",
    "    kv = {}\n",
    "    for i in lst:\n",
    "        if i in kv:\n",
    "            kv[i] += 1\n",
    "        else:\n",
    "            kv[i] = 1\n",
    "    return kv\n",
    "\n",
    "lst = ['a',4,'a',8,4,'hello','a']\n",
    "result = lst_count(lst)\n",
    "print(result)\n"
   ]
  },
  {
   "cell_type": "markdown",
   "metadata": {},
   "source": [
    "## Task 2\n",
    "Create a function called lst_mean that takes a list of ints/floats/strs and returns the mean of the list (using  try/except).\n",
    "\n",
    "Ex. \\['h', 4, '64j', 3.2, '4.3'\\] --> 11.5\n",
    "\n",
    "Hints: [Lists](http://anandology.com/python-practice-book/getting-started.html#lists)"
   ]
  },
  {
   "cell_type": "code",
   "execution_count": 52,
   "metadata": {},
   "outputs": [
    {
     "name": "stdout",
     "output_type": "stream",
     "text": [
      "3.8333333333333335\n"
     ]
    }
   ],
   "source": [
    "def lst_mean(lst):\n",
    "    \"\"\"takes list of ints/floats/strs and returns the mean of the list\n",
    "    Args:\n",
    "        lst1 - empty list to put int/float elements from lst in\n",
    "        n - float version of elements in lst\n",
    "    Returns:\n",
    "        mean - mean of the list \n",
    "    \"\"\"\n",
    "    lst1 = []\n",
    "    for i in lst:\n",
    "        try:\n",
    "            n = float(i)\n",
    "            lst1.append(n)\n",
    "        except:\n",
    "            pass\n",
    "    mean = sum(lst1)/len(lst1)\n",
    "    \n",
    "    return(mean)\n",
    "\n",
    "lst = ['h',4,'64j',3.2,'4.3']\n",
    "result = lst_mean(lst)\n",
    "print(result)"
   ]
  },
  {
   "cell_type": "markdown",
   "metadata": {},
   "source": [
    "## Task 3\n",
    "Create a function lst_distance that takes a list of ints/floats and determines the distance (difference) between each element and the mean of the list, using list comprehension.\n",
    "\n",
    "$$x_{i} = abs(x_{i} - \\mu_{x})$$\n",
    "\n",
    "Hints:[List Comprehension](http://anandology.com/python-practice-book/working-with-data.html#list-comprehensions), [Absolute Value](https://www.tutorialspoint.com/python/number_abs.htm)\n"
   ]
  },
  {
   "cell_type": "code",
   "execution_count": 27,
   "metadata": {},
   "outputs": [
    {
     "name": "stdout",
     "output_type": "stream",
     "text": [
      "[3.666666666666667, 2.666666666666667, 0.666666666666667, 1.333333333333333, 2.333333333333333, 3.333333333333333]\n"
     ]
    }
   ],
   "source": [
    "def lst_distance(lst):\n",
    "    \"\"\"takes list of ints/floats and determines the distance between each element and the mean of the list\n",
    "    Args:\n",
    "        mean - mean of lst\n",
    "        \n",
    "    Returns:\n",
    "        lst1 - result of list comprehension for making a list of the distances\n",
    "    \"\"\"\n",
    "    mean = sum(lst)/len(lst)\n",
    "    lst1 = [abs(x-mean) for x in lst]\n",
    "        \n",
    "    return lst1\n",
    "\n",
    "lst = [1,2,4,6,7,8]\n",
    "result = lst_distance(lst)\n",
    "print(result)\n"
   ]
  },
  {
   "cell_type": "markdown",
   "metadata": {},
   "source": [
    "## Task 4\n",
    "Create a function lst_var that takes a list of ints/floats and computes the variance. You should be able to accomplish this by modifying and/or leveraging your function from **Task 3**\n",
    "\n",
    "$$Var(X) = E[(X-\\mu)^{2}]$$\n",
    "\n",
    "Hint: x ** y = x^y\n"
   ]
  },
  {
   "cell_type": "code",
   "execution_count": 29,
   "metadata": {},
   "outputs": [
    {
     "name": "stdout",
     "output_type": "stream",
     "text": [
      "6.555555555555556\n"
     ]
    }
   ],
   "source": [
    "def lst_var(lst):\n",
    "    \"\"\"takes list of ints/floats and computes variance\n",
    "    Args:\n",
    "        mean - mean of lst\n",
    "        lst1 - making a list of the distances\n",
    "    Returns:\n",
    "        var - variance of lst1\n",
    "    \"\"\"\n",
    "    mean = sum(lst)/len(lst)\n",
    "    lst1 = [abs(x-mean) ** 2 for x in lst]\n",
    "    var = sum(lst1)/len(lst1)\n",
    "        \n",
    "    return var\n",
    "\n",
    "lst = [1,2,4,6,7,8]\n",
    "result = lst_var(lst)\n",
    "print(result)\n"
   ]
  },
  {
   "cell_type": "markdown",
   "metadata": {},
   "source": [
    "## Task 5\n",
    "Create a function dict_agg that takes two dictionaries, where all values are ints/floats, and sums values based on the key.\n",
    "\n",
    "Ex. {‘a’ : 3, ‘b’ : 4, ‘c’ : 8}, {‘b’ : 2, ‘c’ : 4} -> {‘a’ : 3, ‘b’ : 6, ‘c’ : 12}\n",
    "\n",
    "Hints: [Dictionary](http://anandology.com/python-practice-book/working-with-data.html#dictionaries)"
   ]
  },
  {
   "cell_type": "code",
   "execution_count": 34,
   "metadata": {},
   "outputs": [
    {
     "name": "stdout",
     "output_type": "stream",
     "text": [
      "{'a': 3, 'b': 6, 'c': 12}\n"
     ]
    }
   ],
   "source": [
    "def dict_agg(dic1, dic2):\n",
    "    \"\"\"takes dictionary of ints/floats and adds values based on key\n",
    "    Args:\n",
    "        kv1 - empty dictionary to store keys and sums in\n",
    "        k1 - keys in dic1\n",
    "        v1 - values in dic1\n",
    "        v2 - values in dic2\n",
    "    Returns:\n",
    "        kv1 - dictionary with keys and sums of the two dictionaries\n",
    "    \"\"\"\n",
    "    kv1 = {}\n",
    "    for k1,v1 in dic1.items():\n",
    "        if k1 in dic2.keys():\n",
    "            v2 = dic2[k1]\n",
    "            kv1[k1] = v1 + v2\n",
    "        else:\n",
    "            kv1[k1] = v1\n",
    "    return kv1\n",
    "\n",
    "dic1 = {'a':3,'b':4,'c':8}\n",
    "dic2 = {'b':2,'c':4}\n",
    "\n",
    "result = dict_agg(dic1,dic2)\n",
    "print(result)\n"
   ]
  },
  {
   "cell_type": "markdown",
   "metadata": {},
   "source": [
    "## Task 6\n",
    "Modify your function from **Task 5** so that it filters out non-numeric values.\n",
    "\n",
    "Ex. {‘a’ : ‘hello’, ‘b’ : 4, ‘c’ : 8}, { ‘b’ : 2, ‘c’ : ‘four’} -> {‘b’ : 6, ‘c’ : 8}\n",
    "\n",
    "*Note: 'a' does not exist in the output, as it does not have any numeric values associated with it.*\n"
   ]
  },
  {
   "cell_type": "code",
   "execution_count": 37,
   "metadata": {},
   "outputs": [
    {
     "name": "stdout",
     "output_type": "stream",
     "text": [
      "{'b': 6, 'c': 8}\n"
     ]
    }
   ],
   "source": [
    "def dict_aggn(dic1, dic2):\n",
    "    \"\"\"takes dictionary of ints/floats/str and filters out non-numeric values\n",
    "    Args:\n",
    "        kv1 - empty dictionary to store keys and sums in\n",
    "        k1 - keys in dic1\n",
    "        v1 - values in dic1\n",
    "        v - integer value of v1\n",
    "        v2 - values in dic2\n",
    "    Returns:\n",
    "        kv1 - dictionary with keys and sums of the two dictionaries\n",
    "    \"\"\"\n",
    "    kv1 = {}\n",
    "    for k1,v1 in dic1.items():\n",
    "        try:\n",
    "            v = int(v1)\n",
    "            kv1[k1] = v\n",
    "        except:\n",
    "            pass\n",
    "        if k1 in dic2.keys():\n",
    "            try:\n",
    "                v2 = dic2[k1]\n",
    "                v2 = int(v2)\n",
    "                kv1[k1] = v + v2\n",
    "            except:\n",
    "                pass\n",
    "        else:\n",
    "            continue\n",
    "    return kv1\n",
    "\n",
    "dic1 = {'a':\"heel\",'b':4,'c':8}\n",
    "dic2 = {'b':2,'c':\"four\"}\n",
    "\n",
    "result = dict_aggn(dic1,dic2)\n",
    "print(result)\n"
   ]
  },
  {
   "cell_type": "markdown",
   "metadata": {},
   "source": [
    "## Task 7\n",
    "\n",
    "Create a function is_divisible that takes two numbers (x, y) and will return True if x % y == 0, otherwise returns False. Next create a lst_filter function that takes a function, list, and number and returns only elements in the list that pass is_divisible(list_element, number).\n",
    "\n",
    "Ex. lst_filter(is_divisble, \\[1,2,3,4,5,6\\], 3) -> \\[3, 6\\]\n"
   ]
  },
  {
   "cell_type": "code",
   "execution_count": 46,
   "metadata": {},
   "outputs": [
    {
     "data": {
      "text/plain": [
       "[3, 6]"
      ]
     },
     "execution_count": 46,
     "metadata": {},
     "output_type": "execute_result"
    }
   ],
   "source": [
    "def is_divisible(x,y):\n",
    "    \"\"\"takes two numbers x, y and will return True if x%y == 0 and False otherwise\n",
    "    Args:\n",
    "        \n",
    "    Returns:\n",
    "        result - True or False\n",
    "    \"\"\"\n",
    "    if x%y == 0:\n",
    "        result = True\n",
    "    else:\n",
    "        result = False\n",
    "        \n",
    "    return result\n",
    "        \n",
    "def lst_filter(fun, lst, num):\n",
    "    \"\"\"takes function, list, and number and returns only elements in the list that pass function\n",
    "    Args:\n",
    "        r - result from function\n",
    "    Returns:\n",
    "        lst1 - list of elements that pass function\n",
    "    \"\"\"\n",
    "    lst1 = []\n",
    "    for x in lst:\n",
    "        r = fun(x,num)\n",
    "        if r == True:\n",
    "            lst1.append(x)\n",
    "        else:\n",
    "            continue\n",
    "    return lst1\n",
    "\n",
    "\n",
    "lst_filter(is_divisible, [1,2,3,4,5,6], 3)\n",
    "    "
   ]
  },
  {
   "cell_type": "markdown",
   "metadata": {},
   "source": [
    "## Task 8\n",
    "\n",
    "Create a class ‘Car’ which has the following:\n",
    " - Instance attribute ‘mileage’ (int or float)\n",
    " - Instance attribute ‘color’ (string)\n",
    " - Instance attribute ‘make - model’ (string - ex. 'Nissan - Versa')\n",
    " - Instance attribute ‘id’ (int) – Unique id that identifies the vehicle\n",
    "  - could use class attribute\n",
    " - Method ‘__repr__()’ that returns a string \"id: Color, Make, Model\"\n",
    " - Method ‘travel(miles)’ that updates the cars ‘mileage’ accordingly\n",
    "  - Parameter ‘miles’ should be an int/float\n"
   ]
  },
  {
   "cell_type": "code",
   "execution_count": 66,
   "metadata": {},
   "outputs": [],
   "source": [
    "class Car():\n",
    "    def __init__(self, mileage, color, makemodel,iD):\n",
    "        self.inst_attr = \"cars\"\n",
    "        self.mileage = float(mileage)\n",
    "        self.color = str(color)\n",
    "        self.makemodel = str(makemodel)\n",
    "        self.id = int(iD)\n",
    "\n",
    "    def __repr__(self):\n",
    "        return(f'{self.id}: {self.color},{self.makemodel}')\n",
    "    def travel(self, miles):\n",
    "        self.mileage += miles\n",
    "        return self.mileage\n",
    "        \n",
    "    \n",
    "    \n",
    "    \n",
    "        \n"
   ]
  },
  {
   "cell_type": "markdown",
   "metadata": {},
   "source": [
    "## Task 9\n",
    "Create a function ‘car_filter(cars, color, make)’ that will filter ‘Car’ objects based on ‘color’ and/or ‘make/model’\n",
    "\n",
    "Ex. car_filter(cars, ‘yellow’, ‘telsa’) would return only yellow teslas, where car_filter(cars, ‘black’, None) should return any car that is black\n",
    "\n",
    "*Note: I would recommend creating a list of Car's and testing your function*"
   ]
  },
  {
   "cell_type": "code",
   "execution_count": 70,
   "metadata": {},
   "outputs": [],
   "source": [
    "car1 = Car(1000,'yellow','telsa',1)\n",
    "car2 = Car(399, 'black','nissan',2)\n",
    "car3 = Car(4000, 'blue','ford',3)\n",
    "car4 = Car(3444, 'red','telsa',4)\n",
    "car5 = Car(5000, 'yellow','nissan',5)\n",
    "car6 = Car(6000, 'blue','toyota',6)\n",
    "car7 = Car(8000, 'black','honda',7)\n",
    "cars = [car1,car2,car3,car4,car5,car6,car7]"
   ]
  },
  {
   "cell_type": "code",
   "execution_count": 72,
   "metadata": {},
   "outputs": [
    {
     "name": "stdout",
     "output_type": "stream",
     "text": [
      "[2: black,nissan, 7: black,honda]\n"
     ]
    }
   ],
   "source": [
    "# Space for Task 9\n",
    "def car_filter(lst, color, makemodel):\n",
    "    \"\"\"takes car list, color, and makemodel and filters through car list and pulls all cars with those colors and or \n",
    "    makemodel \n",
    "    Args:\n",
    "        lst1 - empty list to store filtered cars\n",
    "    Returns:\n",
    "        lst1 - list with filtered cars\n",
    "    \"\"\"\n",
    "    lst1 = []\n",
    "    for i in lst:\n",
    "        if i.color == color:\n",
    "            if i.makemodel == makemodel or makemodel == \"None\":\n",
    "                lst1.append(i)\n",
    "            else:\n",
    "                continue\n",
    "        else:\n",
    "            continue\n",
    "    return lst1\n",
    "\n",
    "#result = car_filter(cars, 'yellow','telsa')\n",
    "result = car_filter(cars, 'black','None')\n",
    "print(result)\n",
    "                "
   ]
  },
  {
   "cell_type": "code",
   "execution_count": null,
   "metadata": {},
   "outputs": [],
   "source": []
  }
 ],
 "metadata": {
  "kernelspec": {
   "display_name": "Python 3",
   "language": "python",
   "name": "python3"
  },
  "language_info": {
   "codemirror_mode": {
    "name": "ipython",
    "version": 3
   },
   "file_extension": ".py",
   "mimetype": "text/x-python",
   "name": "python",
   "nbconvert_exporter": "python",
   "pygments_lexer": "ipython3",
   "version": "3.6.5"
  }
 },
 "nbformat": 4,
 "nbformat_minor": 2
}
